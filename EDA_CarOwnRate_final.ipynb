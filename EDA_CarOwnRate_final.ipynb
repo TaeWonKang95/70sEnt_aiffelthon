{
  "nbformat": 4,
  "nbformat_minor": 0,
  "metadata": {
    "colab": {
      "name": "EDA_CarOwnRate_final.ipynb",
      "provenance": [],
      "collapsed_sections": []
    },
    "kernelspec": {
      "name": "python3",
      "display_name": "Python 3"
    },
    "language_info": {
      "name": "python"
    }
  },
  "cells": [
    {
      "cell_type": "markdown",
      "source": [
        "#설정"
      ],
      "metadata": {
        "id": "6ZJaKk_55JQF"
      }
    },
    {
      "cell_type": "code",
      "source": [
        "# warning 방지\n",
        "import warnings  \n",
        "warnings.filterwarnings(action = 'ignore')"
      ],
      "metadata": {
        "id": "QRJXSeXP5ErZ"
      },
      "execution_count": null,
      "outputs": []
    },
    {
      "cell_type": "code",
      "execution_count": null,
      "metadata": {
        "id": "zqF5I9mv4bW3"
      },
      "outputs": [],
      "source": [
        "!sudo apt-get install -y fonts-nanum\n",
        "!sudo fc-cache -fv\n",
        "!rm ~/.cache/matplotlib -rf"
      ]
    },
    {
      "cell_type": "code",
      "source": [
        "# matplot lib에서 사용 가능한 한글 폰트\n",
        "import matplotlib as mpl\n",
        "import matplotlib.pyplot as plt\n",
        "import os\n",
        "import sys\n",
        "\n",
        "sys.path.append(os.path.abspath('/content/drive/MyDrive/socar/70sEnt/'))\n",
        "plt.rc('font', family='NanumBarunGothic')"
      ],
      "metadata": {
        "id": "ZO-KBv5t5Dcn"
      },
      "execution_count": null,
      "outputs": []
    },
    {
      "cell_type": "code",
      "source": [
        "cd /content/drive/MyDrive/socar/70sEnt/"
      ],
      "metadata": {
        "colab": {
          "base_uri": "https://localhost:8080/"
        },
        "id": "HQfD0B8M0O_w",
        "outputId": "00c5f448-773e-405b-9f82-638642eb70c5"
      },
      "execution_count": null,
      "outputs": [
        {
          "output_type": "stream",
          "name": "stdout",
          "text": [
            "/content/drive/MyDrive/socar/70sEnt\n"
          ]
        }
      ]
    },
    {
      "cell_type": "code",
      "source": [
        "from google.colab import drive\n",
        "drive.mount('/content/drive')"
      ],
      "metadata": {
        "id": "zwJtHL4L_ts1",
        "outputId": "248b0598-d98f-40ca-d716-5863198006be",
        "colab": {
          "base_uri": "https://localhost:8080/"
        }
      },
      "execution_count": null,
      "outputs": [
        {
          "output_type": "stream",
          "name": "stdout",
          "text": [
            "Drive already mounted at /content/drive; to attempt to forcibly remount, call drive.mount(\"/content/drive\", force_remount=True).\n"
          ]
        }
      ]
    },
    {
      "cell_type": "code",
      "source": [
        "from Preprocessing import data_preprocessing"
      ],
      "metadata": {
        "id": "U8mhcwALAHZv"
      },
      "execution_count": null,
      "outputs": []
    },
    {
      "cell_type": "markdown",
      "source": [
        "# 코드 정리\n"
      ],
      "metadata": {
        "id": "owp2gn8k5Pdt"
      }
    },
    {
      "cell_type": "markdown",
      "source": [
        "## 쏘카 파일 로딩"
      ],
      "metadata": {
        "id": "_cSH2veE2oGY"
      }
    },
    {
      "cell_type": "code",
      "source": [
        "import pandas as pd\n",
        "import numpy as np\n",
        "import datetime\n",
        "\n",
        "df = pd.read_csv(\"/content/drive/MyDrive/socar/데이터/20211022_수요예측_hackathon_data.csv\", encoding='cp949')\n",
        "df"
      ],
      "metadata": {
        "id": "8Fbtmx255ORl"
      },
      "execution_count": null,
      "outputs": []
    },
    {
      "cell_type": "code",
      "source": [
        "socar_file_path='/content/drive/MyDrive/00_Aiffelton/데이터/'\n",
        "weather_file_path='/content/drive/MyDrive/00_Aiffelton/데이터/기상데이터/'\n",
        "finedust_file_apth='/content/drive/MyDrive/00_Aiffelton/데이터/미세먼지/'\n",
        "standard_time='time2'\n",
        "location=None\n",
        "\n",
        "df = data_preprocessing.timeseries_df_create_2(socar_file_path, weather_file_path, finedust_file_apth, standard_time,location)"
      ],
      "metadata": {
        "id": "__B4sCki1rt6"
      },
      "execution_count": null,
      "outputs": []
    },
    {
      "cell_type": "code",
      "source": [
        "regionA = data_preprocessing.timeseries_df_create_2(socar_file_path, weather_file_path, finedust_file_apth, standard_time,'A지역')\n",
        "regionB = data_preprocessing.timeseries_df_create_2(socar_file_path, weather_file_path, finedust_file_apth, standard_time,'B지역')\n",
        "regionC = data_preprocessing.timeseries_df_create_2(socar_file_path, weather_file_path, finedust_file_apth, standard_time,'C지역')\n",
        "regionD = data_preprocessing.timeseries_df_create_2(socar_file_path, weather_file_path, finedust_file_apth, standard_time,'D지역')\n",
        "regionE = data_preprocessing.timeseries_df_create_2(socar_file_path, weather_file_path, finedust_file_apth, standard_time,'E지역')"
      ],
      "metadata": {
        "id": "LY6ZsIeE2C8m"
      },
      "execution_count": null,
      "outputs": []
    },
    {
      "cell_type": "markdown",
      "source": [
        "## 인구통계정보"
      ],
      "metadata": {
        "id": "6vtpYtVi5WLE"
      }
    },
    {
      "cell_type": "code",
      "source": [
        "population_df = pd.read_csv(\"/content/drive/MyDrive/socar/데이터/인구구별데이터/시군구_성_연령_1세_별_주민등록연앙인구_20220425222717.csv\", encoding='cp949')"
      ],
      "metadata": {
        "id": "Tl0hFiT7BQy6"
      },
      "execution_count": null,
      "outputs": []
    },
    {
      "cell_type": "code",
      "source": [
        "population_df[\"A연령대\"] = population_df.iloc[:,3:12].sum(axis=1)\n",
        "population_df[\"B연령대\"] = population_df.iloc[:,12:22].sum(axis=1)\n",
        "population_df[\"C연령대\"] = population_df.iloc[:,22:32].sum(axis=1)\n",
        "population_df[\"D연령대\"] = population_df.iloc[:,32:42].sum(axis=1)\n",
        "population_df[\"E연령대\"] = population_df.iloc[:,42:62].sum(axis=1)\n",
        "population_df"
      ],
      "metadata": {
        "id": "_T8IjltKBXL0"
      },
      "execution_count": null,
      "outputs": []
    },
    {
      "cell_type": "markdown",
      "source": [
        "### 1. 특정지역-연령별 인구수\n",
        "\n",
        "\n",
        "\n"
      ],
      "metadata": {
        "id": "YjLaO56dHSjG"
      }
    },
    {
      "cell_type": "code",
      "source": [
        "x_list = [\"A연령대\", \"B연령대\", \"C연령대\",\"D연령대\",\"E연령대\"]\n",
        "\n",
        "def create_x(t, w, n, d):\n",
        "    return [t*x + w*n for x in range(d)]\n",
        "value_a_x = create_x(5, 0.8, 1, 5)\n",
        "value_b_x = create_x(5, 0.8, 2, 5)\n",
        "value_c_x = create_x(5, 0.8, 3, 5)\n",
        "value_d_x = create_x(5, 0.8, 4, 5)\n",
        "value_e_x = create_x(5, 0.8, 5, 5)\n",
        "\n",
        "f,ax = plt.subplots(figsize=(20,10))\n",
        "\n",
        "ax.bar(value_a_x, population_df.loc[(population_df[\"행정구역(시군구)별\"]==\"A지역\")&(population_df[\"성별\"]==\"계\"),population_df.columns[-5:]].values.reshape(5,), color =\"#DB6E59\" ,  label='A지역')\n",
        "ax.bar(value_b_x, population_df.loc[(population_df[\"행정구역(시군구)별\"]==\"B지역\")&(population_df[\"성별\"]==\"계\"),population_df.columns[-5:]].values.reshape(5,), color =\"#3B203E\" ,  label='B지역')\n",
        "ax.bar(value_c_x, population_df.loc[(population_df[\"행정구역(시군구)별\"]==\"C지역\")&(population_df[\"성별\"]==\"계\"),population_df.columns[-5:]].values.reshape(5,), color =\"#772B58\" ,  label='C지역')\n",
        "ax.bar(value_d_x, population_df.loc[(population_df[\"행정구역(시군구)별\"]==\"D지역\")&(population_df[\"성별\"]==\"계\"),population_df.columns[-5:]].values.reshape(5,), color =\"#B53158\" ,  label='D지역')\n",
        "ax.bar(value_e_x, population_df.loc[(population_df[\"행정구역(시군구)별\"]==\"E지역\")&(population_df[\"성별\"]==\"계\"),population_df.columns[-5:]].values.reshape(5,), color =\"#F5B491\" , label='E지역')\n",
        "\n",
        "\n",
        "middle_x = [(a+b+c+d+e)/5 for (a,b,c,d,e) in zip(value_a_x, value_b_x,value_c_x,value_d_x,value_e_x)]\n",
        "ax.set_xticks(middle_x)\n",
        "ax.get_yaxis().set_visible(False)\n",
        "ax.set_xticklabels(x_list)\n",
        "ax.legend()\n",
        "plt.title(\"세부지역별 연령대별 인구수\")\n",
        "plt.show()"
      ],
      "metadata": {
        "colab": {
          "base_uri": "https://localhost:8080/",
          "height": 606
        },
        "id": "J4CRt8QOFKkA",
        "outputId": "9c08802e-9d7b-485a-818a-31272aaca07e"
      },
      "execution_count": null,
      "outputs": [
        {
          "output_type": "display_data",
          "data": {
            "text/plain": [
              "<Figure size 1440x720 with 1 Axes>"
            ],
            "image/png": "[encoded data removed]"
          },
          "metadata": {
            "needs_background": "light"
          }
        }
      ]
    },
    {
      "cell_type": "code",
      "source": [
        "x_list = [\"A연령대\", \"B연령대\", \"C연령대\",\"D연령대\",\"E연령대\"]\n",
        "\n",
        "plt.figure(figsize=(20,10))\n",
        "\n",
        "plt.bar(x_list,population_df.iloc[0,-5:],color=[\"#3B203E\",\"#772B58\",\"#B53158\",\"#DB6E59\",\"#F5B491\"])\n",
        "\n",
        "plt.xticks(fontsize = 12)\n",
        "ax=plt.gca()\n",
        "ax.get_yaxis().set_visible(False)\n",
        "plt.title(\"전체지역 연령대별 인구수\",fontsize  = 20)\n",
        "plt.show()"
      ],
      "metadata": {
        "colab": {
          "base_uri": "https://localhost:8080/",
          "height": 616
        },
        "id": "1DGVsUzNTc1_",
        "outputId": "86e8be94-99ac-453e-dc6d-755a486cb6cd"
      },
      "execution_count": null,
      "outputs": [
        {
          "output_type": "display_data",
          "data": {
            "text/plain": [
              "<Figure size 1440x720 with 1 Axes>"
            ],
            "image/png": "[encoded data removed]"
          },
          "metadata": {
            "needs_background": "light"
          }
        }
      ]
    },
    {
      "cell_type": "markdown",
      "source": [
        "절대적인 인구수를 확인하였을 때 연령대가 가진 특성이 있음을 확인하였다.   \n"
      ],
      "metadata": {
        "id": "8-PKa8UnHX17"
      }
    },
    {
      "cell_type": "markdown",
      "source": [
        "## 자동차 소유율 "
      ],
      "metadata": {
        "id": "QLzsxowV3J-g"
      }
    },
    {
      "cell_type": "markdown",
      "source": [
        "\n",
        "1. a월부터 b월까지의 월평균 자동차 보유수를 구하였다.\n",
        "2. 이와 쏘카 특성 A의 상관관계를 구하였다.    \n",
        "<img src=\"https://user-images.githubusercontent.com/33904461/175208356-341b0a35-1b3a-46bb-b882-2a1186e53dc4.png\" width=50%/>"
      ],
      "metadata": {
        "id": "1U5AuEX2_xdm"
      }
    },
    {
      "cell_type": "markdown",
      "source": [
        "자동차 보유율과 쏘카 특성 A의 상관관계를 확인하기 위해 pearson 계수를 사용하였다. (선형적인 관계가 어떻게 되는지 알아보기 위함)   \n",
        "- 관계 확인 결과 두 관계는 강한 음의 상관관계를 보인다."
      ],
      "metadata": {
        "id": "u0-JtNS3VE8l"
      }
    },
    {
      "cell_type": "markdown",
      "source": [
        "이에 더 나아가 자동차 보유율을 더욱 세부적인 기준으로 추정치를 구하여 쏘카 특성 A와 상관관계를 확인하였다.    \n",
        "(보안 서약 관계상 공개 불가)"
      ],
      "metadata": {
        "id": "u0JCSC6iYAyZ"
      }
    },
    {
      "cell_type": "markdown",
      "source": [
        "따라서 자동차 소유율을 feature로 사용하는데 타당하다고 판단하여 static varible로 가공한다."
      ],
      "metadata": {
        "id": "6yNzTLoEwG1D"
      }
    }
  ]
}