{
  "nbformat": 4,
  "nbformat_minor": 0,
  "metadata": {
    "colab": {
      "name": "EDA_LocSelection_final.ipynb",
      "provenance": [],
      "collapsed_sections": []
    },
    "kernelspec": {
      "name": "python3",
      "display_name": "Python 3"
    },
    "language_info": {
      "name": "python"
    }
  },
  "cells": [
    {
      "cell_type": "markdown",
      "source": [
        "# 데이터 전반적으로 둘러보기 및 미시적 지역 선택"
      ],
      "metadata": {
        "id": "IQRhVfPCZmxG"
      }
    },
    {
      "cell_type": "code",
      "source": [
        "import os\n",
        "import sys \n",
        "\n",
        "sys.path.append(os.path.abspath(\"/content/drive/MyDrive/70sEnt\"))"
      ],
      "metadata": {
        "id": "OYdaZx7xXY42"
      },
      "execution_count": 1,
      "outputs": []
    },
    {
      "cell_type": "code",
      "source": [
        "cd \"/content/drive/MyDrive/70sEnt\""
      ],
      "metadata": {
        "colab": {
          "base_uri": "https://localhost:8080/"
        },
        "id": "LUIEEXDH4Wvz",
        "outputId": "680c876f-2a5a-4eff-c321-8a67b55dee3c"
      },
      "execution_count": 2,
      "outputs": [
        {
          "output_type": "stream",
          "name": "stdout",
          "text": [
            "/content/drive/MyDrive/70sEnt\n"
          ]
        }
      ]
    },
    {
      "cell_type": "code",
      "source": [
        ""
      ],
      "metadata": {
        "id": "tGzk77bL4QTA"
      },
      "execution_count": 9,
      "outputs": []
    },
    {
      "cell_type": "code",
      "source": [
        ""
      ],
      "metadata": {
        "id": "An8ulHugZkus"
      },
      "execution_count": 9,
      "outputs": []
    },
    {
      "cell_type": "markdown",
      "source": [
        "# import Package"
      ],
      "metadata": {
        "id": "6Qc-oHeM0Bs7"
      }
    },
    {
      "cell_type": "code",
      "execution_count": 10,
      "metadata": {
        "id": "rkM6pLwFMGS8"
      },
      "outputs": [],
      "source": [
        "import pandas as pd\n",
        "import numpy as np\n",
        "import matplotlib.pyplot as plt\n",
        "import seaborn as sns\n",
        "\n",
        "from sklearn.preprocessing import MinMaxScaler\n",
        "\n",
        "import scipy.stats\n",
        "from scipy.stats import pearsonr"
      ]
    },
    {
      "cell_type": "code",
      "source": [
        "!sudo apt-get install -y fonts-nanum\n",
        "!sudo fc-cache -fv\n",
        "!rm ~/.cache/matplotlib -rf"
      ],
      "metadata": {
        "id": "7Tc6MSXMMI4t"
      },
      "execution_count": null,
      "outputs": []
    },
    {
      "cell_type": "code",
      "source": [
        "# matplot lib에서 사용 가능한 한글 폰트\n",
        "import matplotlib as mpl\n",
        "plt.rc('font', family='NanumBarunGothic')\n",
        "#set([i.name for i in mpl.font_manager.fontManager.ttflist])"
      ],
      "metadata": {
        "id": "aR0r3SUaMI7L"
      },
      "execution_count": 12,
      "outputs": []
    },
    {
      "cell_type": "code",
      "source": [
        ""
      ],
      "metadata": {
        "id": "mb7FVix5fo97"
      },
      "execution_count": 12,
      "outputs": []
    },
    {
      "cell_type": "markdown",
      "source": [
        "# 전체 데이터 둘러보기"
      ],
      "metadata": {
        "id": "xlgBaeKDfpGm"
      }
    },
    {
      "cell_type": "code",
      "source": [
        "df = pd.read_csv('/content/drive/MyDrive/00_Aiffelton/데이터/20211022_수요예측_hackathon_data.csv', encoding='cp949')"
      ],
      "metadata": {
        "id": "qXjTQo6zMI2b"
      },
      "execution_count": 13,
      "outputs": []
    },
    {
      "cell_type": "markdown",
      "source": [
        "- 시공간을 다룰 수 있고 다변량을 추가적으로 활용할 수 있는 모델이 효과적일 것으로 예상됨\n",
        "- 모델 선정은 기본적인 EDA로 전반적인 데이터 특성을 본 후에 채택할 예정"
      ],
      "metadata": {
        "id": "ISLvrLPIZzXM"
      }
    },
    {
      "cell_type": "code",
      "source": [
        ""
      ],
      "metadata": {
        "id": "5N7AIxYmZz3q"
      },
      "execution_count": 14,
      "outputs": []
    },
    {
      "cell_type": "code",
      "source": [
        ""
      ],
      "metadata": {
        "id": "olaTyydQZz6b"
      },
      "execution_count": 14,
      "outputs": []
    },
    {
      "cell_type": "markdown",
      "source": [
        "## 1. time1, time2"
      ],
      "metadata": {
        "id": "IyJsN9m1ibfj"
      }
    },
    {
      "cell_type": "code",
      "source": [
        "df['time1'] = pd.to_datetime(df['time1'])\n",
        "df['time2'] = pd.to_datetime(df['time2']) "
      ],
      "metadata": {
        "id": "Git01nL7fpJS"
      },
      "execution_count": 15,
      "outputs": []
    },
    {
      "cell_type": "code",
      "source": [
        "# df['time1'].min(), df['time1'].max()"
      ],
      "metadata": {
        "id": "W-CsSlCWfrkm"
      },
      "execution_count": 54,
      "outputs": []
    },
    {
      "cell_type": "code",
      "source": [
        "# df['time2'].min(), df['time2'].max()"
      ],
      "metadata": {
        "id": "fcgp_3aAfrnK"
      },
      "execution_count": 55,
      "outputs": []
    },
    {
      "cell_type": "markdown",
      "source": [
        "## 2. time3에 대한 오류 정정"
      ],
      "metadata": {
        "id": "csBuWKmGgHqK"
      }
    },
    {
      "cell_type": "code",
      "source": [
        "df['time3'] = df['time1'] - df['time2']"
      ],
      "metadata": {
        "id": "y7awefhQsSix"
      },
      "execution_count": null,
      "outputs": []
    },
    {
      "cell_type": "code",
      "source": [
        "# df['time3'].min(), df['time3'].max()"
      ],
      "metadata": {
        "id": "BeyXsY5XssMj"
      },
      "execution_count": 57,
      "outputs": []
    },
    {
      "cell_type": "markdown",
      "source": [
        "- time3가 음수로 나타나는 데이터가 존재함"
      ],
      "metadata": {
        "id": "Z9LqL9uussPA"
      }
    },
    {
      "cell_type": "code",
      "source": [
        "# df[df['time1'] < df['time2']]"
      ],
      "metadata": {
        "id": "gc8WbYn84fvJ"
      },
      "execution_count": 58,
      "outputs": []
    },
    {
      "cell_type": "markdown",
      "source": [
        "- time1과 time2의 시점이 잘못된 데이터 파악됨\n",
        "- 데이터 오류라고 판단됨\n",
        "- 해당 데이터는 time1과 time2를 서로 바꿔줄 예정"
      ],
      "metadata": {
        "id": "z1ZJiRuCsSpd"
      }
    },
    {
      "cell_type": "code",
      "source": [
        "df.loc[df['time1'] < df['time2'],['time1','time2']] = df.loc[df['time1'] < df['time2'],['time2','time1']].values"
      ],
      "metadata": {
        "id": "kejXGyCauA5L"
      },
      "execution_count": 27,
      "outputs": []
    },
    {
      "cell_type": "markdown",
      "source": [
        "- time1, time2에 대한 데이터 오류 수정"
      ],
      "metadata": {
        "id": "JhMsQ-cRvwed"
      }
    },
    {
      "cell_type": "code",
      "source": [
        "df['time3'] = df['time1'] - df['time2']"
      ],
      "metadata": {
        "id": "WYMLB3qwARJJ"
      },
      "execution_count": 28,
      "outputs": []
    },
    {
      "cell_type": "markdown",
      "source": [
        "## 3. 이용 시간"
      ],
      "metadata": {
        "id": "EotQAS_4CTBh"
      }
    },
    {
      "cell_type": "code",
      "source": [
        "print('a시간 이내 사용자 : {:.2f} %'.format(len(df[df['time3'] < a]) / len(df) * 100))\n",
        "print('b시간 이내 사용자 : {:.2f} %'.format(len(df[df['time3'] < b]) / len(df) * 100))\n",
        "print('c시간 이내 사용자 : {:.2f} %'.format(len(df[df['time3'] < c]) / len(df) * 100))\n",
        "print('d시간 이내 사용자 : {:.2f} %'.format(len(df[df['time3'] < d]) / len(df) * 100))\n",
        "print('e시간 이내 사용자 : {:.2f} %'.format(len(df[df['time3'] < e]) / len(df) * 100))\n",
        "print('f시간 이내 사용자 : {:.2f} %'.format(len(df[df['time3'] < f]) / len(df) * 100))\n",
        "print('g시간 이내 사용자 : {:.2f} %'.format(len(df[df['time3'] < g]) / len(df) * 100))\n",
        "print('h시간 이내 사용자 : {:.2f} %'.format(len(df[df['time3'] < h]) / len(df) * 100))\n",
        "print('i시간 이내 사용자 : {:.2f} %'.format(len(df[df['time3'] < i]) / len(df) * 100))\n",
        "print('j시간 이내 사용자 : {:.2f} %'.format(len(df[df['time3'] < j]) / len(df) * 100))"
      ],
      "metadata": {
        "id": "qaRatfeWElBR",
        "colab": {
          "base_uri": "https://localhost:8080/"
        },
        "outputId": "0b8c4319-8600-4919-96ff-c82e8fc2962e"
      },
      "execution_count": 60,
      "outputs": [
        {
          "output_type": "stream",
          "name": "stdout",
          "text": [
            "a시간 이내 사용자 : 92.63 %\n",
            "b시간 이내 사용자 : 83.78 %\n",
            "c시간 이내 사용자 : 78.56 %\n",
            "d시간 이내 사용자 : 72.07 %\n",
            "e시간 이내 사용자 : 59.52 %\n",
            "f시간 이내 사용자 : 49.31 %\n",
            "g시간 이내 사용자 : 36.31 %\n",
            "h시간 이내 사용자 : 23.65 %\n",
            "i시간 이내 사용자 : 9.69 %\n",
            "j시간 이내 사용자 : 2.96 %\n"
          ]
        }
      ]
    },
    {
      "cell_type": "code",
      "source": [
        "len(df[df['time3'] == 0)"
      ],
      "metadata": {
        "id": "DbzIKq4-Ah_9",
        "colab": {
          "base_uri": "https://localhost:8080/"
        },
        "outputId": "3a013df3-e7c6-4172-e8d2-18f73f1fe2e3"
      },
      "execution_count": 31,
      "outputs": [
        {
          "output_type": "execute_result",
          "data": {
            "text/plain": [
              "28"
            ]
          },
          "metadata": {},
          "execution_count": 31
        }
      ]
    },
    {
      "cell_type": "markdown",
      "source": [
        "- time3가 0인 데이터가 존재\n",
        "- time3가 0인 데이터는 데이터적 오류라고 판단함\n",
        "- 해당 데이터는 삭제 예정"
      ],
      "metadata": {
        "id": "LD26eXc4Ah7o"
      }
    },
    {
      "cell_type": "code",
      "source": [
        "df = df[df['time3'] > 0]"
      ],
      "metadata": {
        "id": "_yae1RdBAiHA"
      },
      "execution_count": 32,
      "outputs": []
    },
    {
      "cell_type": "markdown",
      "source": [
        "- 이용시간이 0인 데이터 삭제"
      ],
      "metadata": {
        "id": "VnpwFJpVuBAA"
      }
    },
    {
      "cell_type": "markdown",
      "source": [
        "## 4. 데이터 소실 파악"
      ],
      "metadata": {
        "id": "8_rMPbZICBLP"
      }
    },
    {
      "cell_type": "code",
      "source": [
        "df['month'] = pd.to_datetime(df['time2']).dt.month\n",
        "df['day'] = pd.to_datetime(df['time2']).dt.day\n",
        "df['weekday'] = pd.to_datetime(df['time2']).dt.weekday\n",
        "df['hour'] = pd.to_datetime(df['time2']).dt.hour"
      ],
      "metadata": {
        "id": "2G2HOnMWd7zU"
      },
      "execution_count": 34,
      "outputs": []
    },
    {
      "cell_type": "code",
      "source": [
        "plt.figure(figsize=(12,8))\n",
        "\n",
        "plt.title('0000년 00월 일자별 수요')\n",
        "sns.countplot(data=df[df['month'] == month_temp], x='day')\n",
        "\n",
        "plt.axis('off')"
      ],
      "metadata": {
        "id": "eO_owF32c5ow",
        "colab": {
          "base_uri": "https://localhost:8080/",
          "height": 499
        },
        "outputId": "8a03ca52-2ab5-4c95-e49c-fc854ade2eb8"
      },
      "execution_count": 62,
      "outputs": [
        {
          "output_type": "execute_result",
          "data": {
            "text/plain": [
              "(-0.5, 28.5, 0.0, 1960.35)"
            ]
          },
          "metadata": {},
          "execution_count": 62
        },
        {
          "output_type": "display_data",
          "data": {
            "text/plain": [
              "<Figure size 864x576 with 1 Axes>"
            ],
            "image/png": "[encoded data removed]"
          },
          "metadata": {
            "needs_background": "light"
          }
        }
      ]
    },
    {
      "cell_type": "markdown",
      "source": [
        "- 전반적으로 f요일의 수요가 다른 요일보다 높은 경향을 보임\n",
        "- Ω일은 f일이지만 일부 데이터가 소실되어 수요를 충분히 표현하지 못한다고 판단됨\n",
        "- Ω일 데이터 소실 판단 근거\n",
        "  - time1 기준에서 일부 데이터가 완전히 주어지지 않음\n",
        "  - time2가 Ω일인 데이터는 파악 가능하지만 time1에서는 파악 불가\n",
        "  - Ω일에 해당하는 예측치를 보간하지 않고 삭제 예정\n",
        "  (test셋에 들어갈 가능성이 있음)\n",
        "  - 이용시간이 a시간 이내 사용자가 92.62% 이므로 time1 기준 Ω-1일 데이터 소실은 적을 것으로 판단됨 (아웃라이어로 간주하여도 된다고 판단함)\n",
        "- Ω일 데이터를 삭제하고자 함"
      ],
      "metadata": {
        "id": "x6UjkJ18eEdD"
      }
    },
    {
      "cell_type": "code",
      "source": [
        "df['month_day'] = pd.to_datetime(df['time2']).dt.strftime(\"%Y-%m-%d\")"
      ],
      "metadata": {
        "id": "v4CuZx0mfvm2"
      },
      "execution_count": 36,
      "outputs": []
    },
    {
      "cell_type": "code",
      "source": [
        "df = df[df['month_day'] != Ω]"
      ],
      "metadata": {
        "id": "b5VdTk2ZCBS7"
      },
      "execution_count": 37,
      "outputs": []
    },
    {
      "cell_type": "markdown",
      "source": [
        "- time2 기준 Ω일 데이터를 삭제함"
      ],
      "metadata": {
        "id": "sAQ-k0we3PTJ"
      }
    },
    {
      "cell_type": "code",
      "source": [
        ""
      ],
      "metadata": {
        "id": "1oLvScj63Tsx"
      },
      "execution_count": 38,
      "outputs": []
    },
    {
      "cell_type": "code",
      "source": [
        ""
      ],
      "metadata": {
        "id": "nhftFkkH3TvV"
      },
      "execution_count": 38,
      "outputs": []
    },
    {
      "cell_type": "markdown",
      "source": [
        "# 전체 데이터의 지역별 분석"
      ],
      "metadata": {
        "id": "E3Ql0DvZWrgK"
      }
    },
    {
      "cell_type": "markdown",
      "source": [
        "### 1. 지역별 데이터 수 파악"
      ],
      "metadata": {
        "id": "PE97xpqXeK-f"
      }
    },
    {
      "cell_type": "code",
      "source": [
        "plt.figure(figsize=(12,8))\n",
        "\n",
        "sns.countplot(data=df, x='city')\n",
        "\n",
        "plt.axis('off')"
      ],
      "metadata": {
        "colab": {
          "base_uri": "https://localhost:8080/",
          "height": 484
        },
        "id": "FiLtT4moBuup",
        "outputId": "9c332616-14c1-45a2-8b87-c95d97948e10"
      },
      "execution_count": 65,
      "outputs": [
        {
          "output_type": "execute_result",
          "data": {
            "text/plain": [
              "(-0.5, 4.5, 0.0, 372562.05)"
            ]
          },
          "metadata": {},
          "execution_count": 65
        },
        {
          "output_type": "display_data",
          "data": {
            "text/plain": [
              "<Figure size 864x576 with 1 Axes>"
            ],
            "image/png": "[encoded data removed]"
          },
          "metadata": {
            "needs_background": "light"
          }
        }
      ]
    },
    {
      "cell_type": "code",
      "source": [
        "city_name = ['cityA', 'cityB', 'cityC', 'cityD', 'cityE']"
      ],
      "metadata": {
        "id": "wzhfnTAJCB2U"
      },
      "execution_count": 66,
      "outputs": []
    },
    {
      "cell_type": "code",
      "source": [
        "for i in city_name:\n",
        "    print('{} 데이터 비율 : {:.2f} %'.format(i, len(df[df['city'] == i])/len(df) * 100))"
      ],
      "metadata": {
        "id": "l1kjxnrobEWw",
        "colab": {
          "base_uri": "https://localhost:8080/"
        },
        "outputId": "d3a78c90-8deb-4d8b-91cf-1e830720bb98"
      },
      "execution_count": 67,
      "outputs": [
        {
          "output_type": "stream",
          "name": "stdout",
          "text": [
            "cityA 데이터 비율 : 10.31 %\n",
            "cityB 데이터 비율 : 2.33 %\n",
            "cityC 데이터 비율 : 77.95 %\n",
            "cityD 데이터 비율 : 3.34 %\n",
            "cityE 데이터 비율 : 6.07 %\n"
          ]
        }
      ]
    },
    {
      "cell_type": "markdown",
      "source": [
        "- 대부분의 데이터는 cityC에 치중되어 있음\n",
        "- cityB의 데이터는 약 2.33% 데이터만 가지고 있음"
      ],
      "metadata": {
        "id": "cuMETqusbXlk"
      }
    },
    {
      "cell_type": "markdown",
      "source": [
        "### 2. 지역별 쏘카 이용 건수 파악"
      ],
      "metadata": {
        "id": "ykEHUWIXbXpV"
      }
    },
    {
      "cell_type": "code",
      "source": [
        "city_monthly_demand = df.pivot_table(index='month', values='time2', columns='city', aggfunc='count')"
      ],
      "metadata": {
        "id": "KIAWxvKPe5bD"
      },
      "execution_count": 69,
      "outputs": []
    },
    {
      "cell_type": "code",
      "source": [
        "minmax_scaler = MinMaxScaler()\n",
        "city_monthly_demand_scaled = minmax_scaler.fit_transform(city_monthly_demand)"
      ],
      "metadata": {
        "id": "Sdtv8E9WDfVK"
      },
      "execution_count": 70,
      "outputs": []
    },
    {
      "cell_type": "code",
      "source": [
        "city_monthly_demand_scaled = pd.DataFrame(city_monthly_demand_scaled)\n",
        "city_monthly_demand_scaled.columns = ['cityC', 'cityB', 'cityD', 'cityA', 'cityE']\n",
        "city_monthly_demand_scaled.index = range(1,12)"
      ],
      "metadata": {
        "id": "98RomplYE8ii"
      },
      "execution_count": 79,
      "outputs": []
    },
    {
      "cell_type": "code",
      "source": [
        "plt.figure(figsize=(12, 8))\n",
        "plt.title('지역별 기간별 수요 흐름(scaling)')\n",
        "\n",
        "plt.plot(city_monthly_demand_scaled)\n",
        "plt.legend(city_monthly_demand_scaled.columns)\n",
        "\n",
        "plt.axis('off')"
      ],
      "metadata": {
        "id": "tAH9AZQkd0BJ",
        "colab": {
          "base_uri": "https://localhost:8080/",
          "height": 499
        },
        "outputId": "64e9c226-dfd2-47fa-f51b-f8ba7e55b848"
      },
      "execution_count": 80,
      "outputs": [
        {
          "output_type": "execute_result",
          "data": {
            "text/plain": [
              "(0.5, 11.5, -0.05, 1.05)"
            ]
          },
          "metadata": {},
          "execution_count": 80
        },
        {
          "output_type": "display_data",
          "data": {
            "text/plain": [
              "<Figure size 864x576 with 1 Axes>"
            ],
            "image/png": "[encoded data removed]"
          },
          "metadata": {
            "needs_background": "light"
          }
        }
      ]
    },
    {
      "cell_type": "markdown",
      "source": [
        "- 지역별 수요 흐름은 비교적 비슷한 경향을 보임\n",
        "- 쏘카의 주요 이용 시기가 있을 것으로 예상됨\n",
        "- 기간별 흐름은 지역별로 비슷한 경향을 보이지만 미시적 관점으로는 지역별 큰 차이가 나타날 것으로 예상됨"
      ],
      "metadata": {
        "id": "BIQaicNOwNgl"
      }
    },
    {
      "cell_type": "code",
      "source": [
        ""
      ],
      "metadata": {
        "id": "Rnz8tsLHwNi8"
      },
      "execution_count": 47,
      "outputs": []
    },
    {
      "cell_type": "code",
      "source": [
        ""
      ],
      "metadata": {
        "id": "LNV3EGw2wNll"
      },
      "execution_count": 47,
      "outputs": []
    },
    {
      "cell_type": "markdown",
      "source": [
        "# cityC"
      ],
      "metadata": {
        "id": "OhJ4ET4CMJMX"
      }
    },
    {
      "cell_type": "markdown",
      "source": [
        "- 주어진 데이터에서 cityC는 cityF를 기준으로 인접된 지역이 다수임\n",
        "- cityC 데이터에서는 지역간 연관성을 보기 어려울 것으로 판단됨"
      ],
      "metadata": {
        "id": "mHOuVERjLcAh"
      }
    },
    {
      "cell_type": "code",
      "source": [
        ""
      ],
      "metadata": {
        "id": "Vfc3rWN4KIG8"
      },
      "execution_count": 48,
      "outputs": []
    },
    {
      "cell_type": "markdown",
      "source": [
        "# cityB"
      ],
      "metadata": {
        "id": "OBA4L64iag61"
      }
    },
    {
      "cell_type": "markdown",
      "source": [
        "- cityB에는 총 여러개 구로 나눠져있음\n",
        "- 본 프로젝트에서는 cityB의 한 개의 구에 해당하는 데이터만 주어짐\n",
        "- 구가 1개만 주어졌으므로 세부지역별 지역 특성을 보기 어려울 것으로 판단됨"
      ],
      "metadata": {
        "id": "pYPlvb3hMJJ6"
      }
    },
    {
      "cell_type": "code",
      "source": [
        ""
      ],
      "metadata": {
        "id": "9hbbN2PUMJO5"
      },
      "execution_count": 49,
      "outputs": []
    },
    {
      "cell_type": "markdown",
      "source": [
        "# cityE"
      ],
      "metadata": {
        "id": "HEHrcFAfMJR6"
      }
    },
    {
      "cell_type": "markdown",
      "source": [
        "- cityE는 모든 구가 모두 표현됨 (구가 2개만 존재)"
      ],
      "metadata": {
        "id": "zEGp17giMJc0"
      }
    },
    {
      "cell_type": "code",
      "source": [
        ""
      ],
      "metadata": {
        "id": "-BF72iVPMJfv"
      },
      "execution_count": 50,
      "outputs": []
    },
    {
      "cell_type": "markdown",
      "source": [
        "# cityD"
      ],
      "metadata": {
        "id": "_5a7KyqyMJpl"
      }
    },
    {
      "cell_type": "markdown",
      "source": [
        "- cityD의 세부지역은 하나만 주어짐\n",
        "- 인근 지역 정보가 없으므로 지역 특성을 보기 어려울 것으로 판단됨"
      ],
      "metadata": {
        "id": "OnTOlygUMJ3V"
      }
    },
    {
      "cell_type": "code",
      "source": [
        ""
      ],
      "metadata": {
        "id": "TmpFM3mDMJ55"
      },
      "execution_count": 51,
      "outputs": []
    },
    {
      "cell_type": "markdown",
      "source": [
        "# cityA"
      ],
      "metadata": {
        "id": "cG7BAjp6MJ9B"
      }
    },
    {
      "cell_type": "markdown",
      "source": [
        "- cityA의 모든 구군 데이터가 주어짐\n",
        "  - 세부지역의 특징을 파악해보기 유리하다고 판단됨\n",
        "- cityA은 팀 내의 편향이 적을 것으로 판단됨\n",
        "  - 살았던 지역 또는 잘 알고 있는 지역은 경험에 따른 편향이 데이터를 바라보는데 영향을 줄 것으로 판단됨\n",
        "  - 팀원 내 모든 구성원이 잘 아는 지역 또는 모든 구성원이 모르는 지역을 채택하고자 함\n",
        "  - 현재 팀 내에서 cityB와 cityD 출신이 있으므로 해당 지역은 제외하고자 함\n",
        "  - 팀 내에서 cityA에 대해 잘 아는 인원이 없으므로 편향이 가장 적은 지역일 것으로 판단됨\n",
        "- **cityA를 미시적 지역으로 채택하여 본 프로젝트를 진행하고자 함**"
      ],
      "metadata": {
        "id": "OmPHDLmwMKGM"
      }
    },
    {
      "cell_type": "code",
      "source": [
        ""
      ],
      "metadata": {
        "id": "GRkmSmDoMKJO"
      },
      "execution_count": 53,
      "outputs": []
    },
    {
      "cell_type": "code",
      "source": [
        ""
      ],
      "metadata": {
        "id": "wvzGn6mcMKME"
      },
      "execution_count": 53,
      "outputs": []
    }
  ]
}